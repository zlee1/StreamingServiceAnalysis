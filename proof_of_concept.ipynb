{
 "cells": [
  {
   "cell_type": "markdown",
   "id": "heavy-timeline",
   "metadata": {},
   "source": [
    "# Proof of Concept\n",
    "\n",
    "This exists to decide whether the overall goal of this project is feasible or not. It will be doing some of the following tasks:\n",
    "* Asking for user inputs for preference deciding\n",
    "* Generating metric that represents a user\n",
    "* Generating metric that represents a service\n",
    "* Comparing user to services and finding best fit"
   ]
  },
  {
   "cell_type": "code",
   "execution_count": 53,
   "id": "portuguese-hormone",
   "metadata": {},
   "outputs": [],
   "source": [
    "import pandas as pd\n",
    "import numpy as np\n",
    "from pandasql import sqldf"
   ]
  },
  {
   "cell_type": "code",
   "execution_count": 25,
   "id": "referenced-arctic",
   "metadata": {},
   "outputs": [],
   "source": [
    "movies = pd.read_csv(\"data/modified/movies_api_imdb_merged.csv\")\n",
    "genres = pd.read_csv(\"data/modified/service_genres_counted.csv\")\n",
    "ratings = pd.read_csv(\"data/modified/ratings_counted.csv\")"
   ]
  },
  {
   "cell_type": "code",
   "execution_count": 39,
   "id": "burning-parliament",
   "metadata": {},
   "outputs": [
    {
     "data": {
      "text/plain": [
       "['title',\n",
       " 'release_year',\n",
       " 'type',\n",
       " 'rating',\n",
       " 'service',\n",
       " 'tmdb_id',\n",
       " 'genres',\n",
       " 'imdb_id',\n",
       " 'popularity',\n",
       " 'tmdb_score',\n",
       " 'tmdb_count',\n",
       " 'poster_path',\n",
       " 'budget',\n",
       " 'revenue',\n",
       " 'runtime',\n",
       " 'tconst',\n",
       " 'imdb_score',\n",
       " 'imdb_count',\n",
       " 'mean_score',\n",
       " 'mean_num_votes']"
      ]
     },
     "execution_count": 39,
     "metadata": {},
     "output_type": "execute_result"
    }
   ],
   "source": [
    "list(movies.columns)"
   ]
  },
  {
   "cell_type": "code",
   "execution_count": 38,
   "id": "literary-delivery",
   "metadata": {},
   "outputs": [
    {
     "data": {
      "text/plain": [
       "['service',\n",
       " 'type',\n",
       " 'genre',\n",
       " 'count',\n",
       " 'mean_score',\n",
       " 'mean_popularity',\n",
       " 'total_on_service',\n",
       " 'percentage_of_total']"
      ]
     },
     "execution_count": 38,
     "metadata": {},
     "output_type": "execute_result"
    }
   ],
   "source": [
    "list(genres.columns)"
   ]
  },
  {
   "cell_type": "code",
   "execution_count": 40,
   "id": "similar-walnut",
   "metadata": {},
   "outputs": [
    {
     "data": {
      "text/plain": [
       "['service',\n",
       " 'type',\n",
       " 'count',\n",
       " 'rating',\n",
       " 'mean_score',\n",
       " 'mean_popularity',\n",
       " 'total_on_service',\n",
       " 'percentage_of_total']"
      ]
     },
     "execution_count": 40,
     "metadata": {},
     "output_type": "execute_result"
    }
   ],
   "source": [
    "list(ratings.columns)"
   ]
  },
  {
   "cell_type": "code",
   "execution_count": 26,
   "id": "honey-julian",
   "metadata": {},
   "outputs": [],
   "source": [
    "# Dictionary of genres and corresponding user-input values initialized to 0\n",
    "user_genres = {key: 0 for key in genres.genre.unique()}"
   ]
  },
  {
   "cell_type": "code",
   "execution_count": 27,
   "id": "compatible-processing",
   "metadata": {},
   "outputs": [],
   "source": [
    "# A dictionary generated to provide an example response set for genres\n",
    "example_response = {'Drama': 1,'Comedy': 1,'Thriller': 1,'Action': 1,'Romance': 0,'Horror': 1,'Crime': 0,'Documentary': 0,'Family': 0,'Adventure': 1,'TV Movie': 0,'Mystery': 1,'Science Fiction': 1,'Western': 1,'Fantasy': 0,'Music': 0,'History': 0,'War': 1,'Animation': 1}\n",
    "\n",
    "# Uncomment this line to redo genre calculating\n",
    "#example_response = None"
   ]
  },
  {
   "cell_type": "code",
   "execution_count": 28,
   "id": "rational-workplace",
   "metadata": {},
   "outputs": [],
   "source": [
    "# Ask the user whether they like each genre or not.\n",
    "if(example_response == None):\n",
    "    for genre in user_genres:\n",
    "        ans = input(f\"Do you like the {genre} genre? (y/n): \")\n",
    "        if(ans == \"y\"):\n",
    "            # Value is 1 if the user likes the genre and 0 otherwise\n",
    "            user_genres[genre] += 1\n",
    "else:\n",
    "    user_genres = example_response"
   ]
  },
  {
   "cell_type": "code",
   "execution_count": 29,
   "id": "authorized-linux",
   "metadata": {},
   "outputs": [
    {
     "data": {
      "text/plain": [
       "{'Drama': 1,\n",
       " 'Comedy': 1,\n",
       " 'Thriller': 1,\n",
       " 'Action': 1,\n",
       " 'Romance': 0,\n",
       " 'Horror': 1,\n",
       " 'Crime': 0,\n",
       " 'Documentary': 0,\n",
       " 'Family': 0,\n",
       " 'Adventure': 1,\n",
       " 'TV Movie': 0,\n",
       " 'Mystery': 1,\n",
       " 'Science Fiction': 1,\n",
       " 'Western': 1,\n",
       " 'Fantasy': 0,\n",
       " 'Music': 0,\n",
       " 'History': 0,\n",
       " 'War': 1,\n",
       " 'Animation': 1}"
      ]
     },
     "execution_count": 29,
     "metadata": {},
     "output_type": "execute_result"
    }
   ],
   "source": [
    "user_genres"
   ]
  },
  {
   "cell_type": "code",
   "execution_count": 60,
   "id": "indirect-panel",
   "metadata": {},
   "outputs": [],
   "source": [
    "# Summarize how a service performs for each genre and whether the user likes the genre or not\n",
    "genre_service_summaries = {key:[] for key in genres.service.unique()}\n",
    "for index, row in genres.iterrows():\n",
    "    # Append (genre's user score)*(genre's average score on service)*(genre's percentage of total on service)\n",
    "    genre_service_summaries[row[\"service\"]] += [user_genres.get(row[\"genre\"])*row[\"mean_score\"]*row[\"percentage_of_total\"]]"
   ]
  },
  {
   "cell_type": "code",
   "execution_count": 61,
   "id": "obvious-witch",
   "metadata": {},
   "outputs": [],
   "source": [
    "# Generate one-number genre summary for each service by calculating median of all genre values \n",
    "for key, value in genre_service_summaries.items():\n",
    "    genre_service_summaries[key] = np.median(value)"
   ]
  },
  {
   "cell_type": "code",
   "execution_count": 62,
   "id": "precious-yahoo",
   "metadata": {},
   "outputs": [
    {
     "data": {
      "text/plain": [
       "{'amazon': 0.06995822999608409,\n",
       " 'disney': 0.021224899598393573,\n",
       " 'hbo': 0.11890367370552508,\n",
       " 'hulu': 0.07558758314855876,\n",
       " 'netflix': 0.06912884556807797}"
      ]
     },
     "execution_count": 62,
     "metadata": {},
     "output_type": "execute_result"
    }
   ],
   "source": [
    "# Ideal service based on genres alone is the one with the highest median genre score\n",
    "genre_service_summaries"
   ]
  }
 ],
 "metadata": {
  "kernelspec": {
   "display_name": "Python 3",
   "language": "python",
   "name": "python3"
  },
  "language_info": {
   "codemirror_mode": {
    "name": "ipython",
    "version": 3
   },
   "file_extension": ".py",
   "mimetype": "text/x-python",
   "name": "python",
   "nbconvert_exporter": "python",
   "pygments_lexer": "ipython3",
   "version": "3.8.5"
  }
 },
 "nbformat": 4,
 "nbformat_minor": 5
}
