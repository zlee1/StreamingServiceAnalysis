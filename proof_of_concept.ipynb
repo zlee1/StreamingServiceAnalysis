{
 "cells": [
  {
   "cell_type": "markdown",
   "id": "economic-dragon",
   "metadata": {},
   "source": [
    "# Proof of Concept\n",
    "\n",
    "This exists to decide whether the overall goal of this project is feasible or not. It will be doing some of the following tasks:\n",
    "* Asking for user inputs for preference deciding\n",
    "* Generating metric that represents a user\n",
    "* Generating metric that represents a service\n",
    "* Comparing user to services and finding best fit"
   ]
  },
  {
   "cell_type": "code",
   "execution_count": 1,
   "id": "located-material",
   "metadata": {},
   "outputs": [],
   "source": [
    "import pandas as pd\n",
    "import numpy as np\n",
    "from pandasql import sqldf\n",
    "import random"
   ]
  },
  {
   "cell_type": "code",
   "execution_count": 2,
   "id": "sexual-syndication",
   "metadata": {},
   "outputs": [],
   "source": [
    "movies = pd.read_csv(\"data/modified/movies_api_imdb_merged.csv\")\n",
    "genres = pd.read_csv(\"data/modified/service_genres_counted.csv\")\n",
    "ratings = pd.read_csv(\"data/modified/ratings_counted.csv\")"
   ]
  },
  {
   "cell_type": "code",
   "execution_count": 3,
   "id": "provincial-venture",
   "metadata": {},
   "outputs": [
    {
     "data": {
      "text/plain": [
       "['title',\n",
       " 'release_year',\n",
       " 'type',\n",
       " 'rating',\n",
       " 'service',\n",
       " 'tmdb_id',\n",
       " 'genres',\n",
       " 'imdb_id',\n",
       " 'popularity',\n",
       " 'tmdb_score',\n",
       " 'tmdb_count',\n",
       " 'poster_path',\n",
       " 'budget',\n",
       " 'revenue',\n",
       " 'runtime',\n",
       " 'tconst',\n",
       " 'imdb_score',\n",
       " 'imdb_count',\n",
       " 'mean_score',\n",
       " 'mean_num_votes']"
      ]
     },
     "execution_count": 3,
     "metadata": {},
     "output_type": "execute_result"
    }
   ],
   "source": [
    "list(movies.columns)"
   ]
  },
  {
   "cell_type": "code",
   "execution_count": 4,
   "id": "female-russia",
   "metadata": {},
   "outputs": [
    {
     "data": {
      "text/plain": [
       "['service',\n",
       " 'type',\n",
       " 'genre',\n",
       " 'count',\n",
       " 'mean_score',\n",
       " 'mean_popularity',\n",
       " 'total_on_service',\n",
       " 'percentage_of_total']"
      ]
     },
     "execution_count": 4,
     "metadata": {},
     "output_type": "execute_result"
    }
   ],
   "source": [
    "list(genres.columns)"
   ]
  },
  {
   "cell_type": "code",
   "execution_count": 5,
   "id": "retired-genesis",
   "metadata": {},
   "outputs": [
    {
     "data": {
      "text/plain": [
       "['service',\n",
       " 'type',\n",
       " 'count',\n",
       " 'rating',\n",
       " 'mean_score',\n",
       " 'mean_popularity',\n",
       " 'total_on_service',\n",
       " 'percentage_of_total']"
      ]
     },
     "execution_count": 5,
     "metadata": {},
     "output_type": "execute_result"
    }
   ],
   "source": [
    "list(ratings.columns)"
   ]
  },
  {
   "cell_type": "markdown",
   "id": "willing-dublin",
   "metadata": {},
   "source": [
    "## Genres\n",
    "\n",
    "Finding the \"best\" streaming service for a user based on genre preferences."
   ]
  },
  {
   "cell_type": "code",
   "execution_count": 6,
   "id": "square-mason",
   "metadata": {},
   "outputs": [],
   "source": [
    "# Dictionary of genres and corresponding user-input values initialized to 0\n",
    "user_genres = {key: 0 for key in genres.genre.unique()}"
   ]
  },
  {
   "cell_type": "code",
   "execution_count": 7,
   "id": "controversial-hardwood",
   "metadata": {},
   "outputs": [],
   "source": [
    "# A dictionary generated to provide an example response set for genres\n",
    "example_genres = {'Drama': 1,'Comedy': 1,'Thriller': 1,'Action': 1,'Romance': 0,'Horror': 1,'Crime': 0,'Documentary': 0,'Family': 0,'Adventure': 1,'TV Movie': 0,'Mystery': 1,'Science Fiction': 1,'Western': 1,'Fantasy': 0,'Music': 0,'History': 0,'War': 1,'Animation': 1}\n",
    "\n",
    "# Uncomment this line to redo genre calculating\n",
    "#example_genres = None"
   ]
  },
  {
   "cell_type": "code",
   "execution_count": 8,
   "id": "biblical-airfare",
   "metadata": {},
   "outputs": [],
   "source": [
    "# Ask the user whether they like each genre or not.\n",
    "if(example_genres is None):\n",
    "    for genre in user_genres:\n",
    "        ans = input(f\"Do you like the {genre} genre? (y/n): \")\n",
    "        if(ans == \"y\"):\n",
    "            # Value is 1 if the user likes the genre and 0 otherwise\n",
    "            user_genres[genre] += 1\n",
    "else:\n",
    "    user_genres = example_genres"
   ]
  },
  {
   "cell_type": "code",
   "execution_count": 9,
   "id": "stylish-anxiety",
   "metadata": {},
   "outputs": [
    {
     "data": {
      "text/plain": [
       "{'Drama': 1,\n",
       " 'Comedy': 1,\n",
       " 'Thriller': 1,\n",
       " 'Action': 1,\n",
       " 'Romance': 0,\n",
       " 'Horror': 1,\n",
       " 'Crime': 0,\n",
       " 'Documentary': 0,\n",
       " 'Family': 0,\n",
       " 'Adventure': 1,\n",
       " 'TV Movie': 0,\n",
       " 'Mystery': 1,\n",
       " 'Science Fiction': 1,\n",
       " 'Western': 1,\n",
       " 'Fantasy': 0,\n",
       " 'Music': 0,\n",
       " 'History': 0,\n",
       " 'War': 1,\n",
       " 'Animation': 1}"
      ]
     },
     "execution_count": 9,
     "metadata": {},
     "output_type": "execute_result"
    }
   ],
   "source": [
    "user_genres"
   ]
  },
  {
   "cell_type": "code",
   "execution_count": 10,
   "id": "intended-folder",
   "metadata": {},
   "outputs": [],
   "source": [
    "# Summarize how a service performs for each genre and whether the user likes the genre or not\n",
    "genre_service_summaries = {key:[] for key in genres.service.unique()}\n",
    "for index, row in genres.iterrows():\n",
    "    # Append (genre's user score)*(genre's average score on service)*(genre's percentage of total on service)\n",
    "    genre_service_summaries[row[\"service\"]] += [user_genres.get(row[\"genre\"])*row[\"mean_score\"]*row[\"percentage_of_total\"]]"
   ]
  },
  {
   "cell_type": "code",
   "execution_count": 11,
   "id": "southern-communications",
   "metadata": {},
   "outputs": [],
   "source": [
    "# Generate one-number genre summary for each service by calculating sum of all genre values \n",
    "# Sum chosen because scores of 0 should not impact choice considering that the genre can be ignored on service\n",
    "for key, value in genre_service_summaries.items():\n",
    "    genre_service_summaries[key] = np.sum(value)"
   ]
  },
  {
   "cell_type": "code",
   "execution_count": 12,
   "id": "immune-carbon",
   "metadata": {},
   "outputs": [
    {
     "data": {
      "text/plain": [
       "{'amazon': 4.0411956663620945,\n",
       " 'disney': 3.620682730923695,\n",
       " 'hbo': 4.193505929997107,\n",
       " 'hulu': 4.314811529933482,\n",
       " 'netflix': 4.276764138491216}"
      ]
     },
     "execution_count": 12,
     "metadata": {},
     "output_type": "execute_result"
    }
   ],
   "source": [
    "genre_service_summaries"
   ]
  },
  {
   "cell_type": "code",
   "execution_count": 13,
   "id": "subtle-noise",
   "metadata": {},
   "outputs": [
    {
     "name": "stdout",
     "output_type": "stream",
     "text": [
      "hulu\n"
     ]
    }
   ],
   "source": [
    "# Ideal service based on genres alone is the one with the highest total genre score\n",
    "print(max(genre_service_summaries, key=genre_service_summaries.get))"
   ]
  },
  {
   "cell_type": "markdown",
   "id": "regulation-generator",
   "metadata": {},
   "source": [
    "## Ratings\n",
    "\n",
    "Finding the \"best\" streaming service for a user based on rating preferences."
   ]
  },
  {
   "cell_type": "code",
   "execution_count": 14,
   "id": "structural-sponsorship",
   "metadata": {},
   "outputs": [],
   "source": [
    "user_ratings = {rating:0 for rating in ratings.rating.unique()}"
   ]
  },
  {
   "cell_type": "code",
   "execution_count": 15,
   "id": "ordinary-giant",
   "metadata": {},
   "outputs": [],
   "source": [
    "children = {'G': 1, 'NC-17': -1, 'NR': -1, 'PG': 1, 'PG-13': 0, 'R': -1}\n",
    "no_adult_content = {'G': 0, 'NC-17': -1, 'NR': -1, 'PG': 0, 'PG-13': 0, 'R': 0}\n",
    "middle_ground = {'G': 0, 'NC-17': -1, 'NR': -1, 'PG': 0, 'PG-13': 1, 'R': 1}\n",
    "anything_goes = {'G': 0, 'NC-17': 0, 'NR': 0, 'PG': 0, 'PG-13': 0, 'R': 0}\n",
    "example_ratings = random.choice([children, no_adult_content, middle_ground, anything_goes])\n",
    "\n",
    "#example_ratings = None"
   ]
  },
  {
   "cell_type": "code",
   "execution_count": 16,
   "id": "amazing-mitchell",
   "metadata": {},
   "outputs": [],
   "source": [
    "if(example_ratings is None):\n",
    "    for rating in user_ratings:\n",
    "        ans = input(f\"Are you okay with the {rating} rating being on your service? (1: want, 0: don't care, -1: don't want): \")\n",
    "        user_ratings[rating] = int(ans)\n",
    "else:\n",
    "    user_ratings = example_ratings"
   ]
  },
  {
   "cell_type": "code",
   "execution_count": 17,
   "id": "crucial-chrome",
   "metadata": {},
   "outputs": [
    {
     "data": {
      "text/plain": [
       "{'G': 0, 'NC-17': -1, 'NR': -1, 'PG': 0, 'PG-13': 1, 'R': 1}"
      ]
     },
     "execution_count": 17,
     "metadata": {},
     "output_type": "execute_result"
    }
   ],
   "source": [
    "user_ratings"
   ]
  },
  {
   "cell_type": "code",
   "execution_count": 18,
   "id": "identical-spectrum",
   "metadata": {},
   "outputs": [],
   "source": [
    "# Summarize how a service performs for each genre and whether the user likes the genre or not\n",
    "rating_service_summaries = {key:[] for key in ratings.service.unique()}\n",
    "for index, row in ratings.iterrows():\n",
    "    # Append (genre's user score)*(genre's average score on service)*(genre's percentage of total on service)\n",
    "    rating_service_summaries[row[\"service\"]] += [user_ratings.get(row[\"rating\"])*row[\"mean_score\"]*row[\"percentage_of_total\"]]"
   ]
  },
  {
   "cell_type": "code",
   "execution_count": 19,
   "id": "foster-cradle",
   "metadata": {},
   "outputs": [
    {
     "data": {
      "text/plain": [
       "{'amazon': [0.0,\n",
       "  -0.7583287895310798,\n",
       "  -0.12324154852780807,\n",
       "  0.0,\n",
       "  1.9516766630316251,\n",
       "  1.8507497273718654],\n",
       " 'disney': [0.0, 0.0, 0.61568287037037],\n",
       " 'hbo': [0.0, 0.0, 2.043612521150592, 2.4168358714044014],\n",
       " 'hulu': [0.0,\n",
       "  -0.00988538681948424,\n",
       "  0.0,\n",
       "  1.7259312320916917,\n",
       "  3.176647564469913],\n",
       " 'netflix': [0.0,\n",
       "  -0.0026476578411405295,\n",
       "  -0.08668024439918533,\n",
       "  0.0,\n",
       "  1.9851934826883906,\n",
       "  2.9746639511201622]}"
      ]
     },
     "execution_count": 19,
     "metadata": {},
     "output_type": "execute_result"
    }
   ],
   "source": [
    "rating_service_summaries"
   ]
  },
  {
   "cell_type": "code",
   "execution_count": 20,
   "id": "young-health",
   "metadata": {},
   "outputs": [],
   "source": [
    "# Generate one-number genre summary for each service by calculating sum of all genre values \n",
    "# Sum chosen because scores of 0 should not impact choice considering that the genre can be ignored on service\n",
    "for key, value in rating_service_summaries.items():\n",
    "    rating_service_summaries[key] = np.sum(value)"
   ]
  },
  {
   "cell_type": "code",
   "execution_count": 21,
   "id": "civic-economics",
   "metadata": {},
   "outputs": [
    {
     "data": {
      "text/plain": [
       "{'amazon': 2.9208560523446025,\n",
       " 'disney': 0.61568287037037,\n",
       " 'hbo': 4.460448392554993,\n",
       " 'hulu': 4.892693409742121,\n",
       " 'netflix': 4.870529531568227}"
      ]
     },
     "execution_count": 21,
     "metadata": {},
     "output_type": "execute_result"
    }
   ],
   "source": [
    "rating_service_summaries"
   ]
  },
  {
   "cell_type": "code",
   "execution_count": 22,
   "id": "hydraulic-oriental",
   "metadata": {},
   "outputs": [
    {
     "name": "stdout",
     "output_type": "stream",
     "text": [
      "hulu\n"
     ]
    }
   ],
   "source": [
    "# Ideal service based on ratings alone is the one with the highest total rating score\n",
    "print(max(rating_service_summaries, key=rating_service_summaries.get))"
   ]
  }
 ],
 "metadata": {
  "kernelspec": {
   "display_name": "Python 3",
   "language": "python",
   "name": "python3"
  },
  "language_info": {
   "codemirror_mode": {
    "name": "ipython",
    "version": 3
   },
   "file_extension": ".py",
   "mimetype": "text/x-python",
   "name": "python",
   "nbconvert_exporter": "python",
   "pygments_lexer": "ipython3",
   "version": "3.8.5"
  }
 },
 "nbformat": 4,
 "nbformat_minor": 5
}
