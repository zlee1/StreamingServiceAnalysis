{
 "cells": [
  {
   "cell_type": "markdown",
   "id": "threatened-prison",
   "metadata": {},
   "source": [
    "# Proof of Concept\n",
    "\n",
    "This exists to decide whether the overall goal of this project is feasible or not. It will be doing some of the following tasks:\n",
    "* Asking for user inputs for preference deciding\n",
    "* Generating metric that represents a user\n",
    "* Generating metric that represents a service\n",
    "* Comparing user to services and finding best fit"
   ]
  },
  {
   "cell_type": "code",
   "execution_count": 2,
   "id": "random-tractor",
   "metadata": {},
   "outputs": [],
   "source": [
    "import pandas as pd\n",
    "import numpy as np\n",
    "from pandasql import sqldf\n",
    "import random"
   ]
  },
  {
   "cell_type": "code",
   "execution_count": 3,
   "id": "persistent-cornwall",
   "metadata": {},
   "outputs": [],
   "source": [
    "movies = pd.read_csv(\"data/modified/movies_api_imdb_merged.csv\")\n",
    "genres = pd.read_csv(\"data/modified/service_genres_counted.csv\")\n",
    "ratings = pd.read_csv(\"data/modified/ratings_counted.csv\")\n",
    "decades = pd.read_csv(\"data/modified/decades.csv\")"
   ]
  },
  {
   "cell_type": "code",
   "execution_count": 4,
   "id": "speaking-cedar",
   "metadata": {},
   "outputs": [
    {
     "data": {
      "text/plain": [
       "['title',\n",
       " 'release_year',\n",
       " 'type',\n",
       " 'rating',\n",
       " 'service',\n",
       " 'tmdb_id',\n",
       " 'genres',\n",
       " 'imdb_id',\n",
       " 'popularity',\n",
       " 'tmdb_score',\n",
       " 'tmdb_count',\n",
       " 'poster_path',\n",
       " 'budget',\n",
       " 'revenue',\n",
       " 'runtime',\n",
       " 'tconst',\n",
       " 'imdb_score',\n",
       " 'imdb_count',\n",
       " 'mean_score',\n",
       " 'mean_num_votes',\n",
       " 'decade']"
      ]
     },
     "execution_count": 4,
     "metadata": {},
     "output_type": "execute_result"
    }
   ],
   "source": [
    "list(movies.columns)"
   ]
  },
  {
   "cell_type": "code",
   "execution_count": 5,
   "id": "unlike-canberra",
   "metadata": {},
   "outputs": [
    {
     "data": {
      "text/plain": [
       "['service',\n",
       " 'type',\n",
       " 'genre',\n",
       " 'count',\n",
       " 'mean_score',\n",
       " 'mean_popularity',\n",
       " 'total_on_service',\n",
       " 'percentage_of_total']"
      ]
     },
     "execution_count": 5,
     "metadata": {},
     "output_type": "execute_result"
    }
   ],
   "source": [
    "list(genres.columns)"
   ]
  },
  {
   "cell_type": "code",
   "execution_count": 6,
   "id": "fiscal-theology",
   "metadata": {},
   "outputs": [
    {
     "data": {
      "text/plain": [
       "['service',\n",
       " 'type',\n",
       " 'count',\n",
       " 'rating',\n",
       " 'mean_score',\n",
       " 'mean_popularity',\n",
       " 'total_on_service',\n",
       " 'percentage_of_total']"
      ]
     },
     "execution_count": 6,
     "metadata": {},
     "output_type": "execute_result"
    }
   ],
   "source": [
    "list(ratings.columns)"
   ]
  },
  {
   "cell_type": "code",
   "execution_count": 7,
   "id": "injured-decimal",
   "metadata": {},
   "outputs": [
    {
     "data": {
      "text/plain": [
       "['service',\n",
       " 'decade',\n",
       " 'count',\n",
       " 'mean_score',\n",
       " 'mean_popularity',\n",
       " 'total_on_service',\n",
       " 'percentage_of_total']"
      ]
     },
     "execution_count": 7,
     "metadata": {},
     "output_type": "execute_result"
    }
   ],
   "source": [
    "list(decades.columns)"
   ]
  },
  {
   "cell_type": "markdown",
   "id": "extreme-butterfly",
   "metadata": {},
   "source": [
    "## Analysis"
   ]
  },
  {
   "cell_type": "code",
   "execution_count": 50,
   "id": "soviet-consumption",
   "metadata": {},
   "outputs": [],
   "source": [
    "scores = {}"
   ]
  },
  {
   "cell_type": "markdown",
   "id": "western-windsor",
   "metadata": {},
   "source": [
    "### Genres\n",
    "\n",
    "Finding the \"best\" streaming service for a user based on genre preferences."
   ]
  },
  {
   "cell_type": "code",
   "execution_count": 8,
   "id": "worse-aurora",
   "metadata": {},
   "outputs": [],
   "source": [
    "# Dictionary of genres and corresponding user-input values initialized to 0\n",
    "user_genres = {key: 0 for key in genres.genre.unique()}"
   ]
  },
  {
   "cell_type": "code",
   "execution_count": 9,
   "id": "filled-jewel",
   "metadata": {},
   "outputs": [],
   "source": [
    "# A dictionary generated to provide an example response set for genres\n",
    "example_genres = {'Drama': 1,'Comedy': 1,'Thriller': 1,'Action': 1,'Romance': 0,'Horror': 1,'Crime': 0,'Documentary': 0,'Family': 0,'Adventure': 1,'TV Movie': 0,'Mystery': 1,'Science Fiction': 1,'Western': 1,'Fantasy': 0,'Music': 0,'History': 0,'War': 1,'Animation': 1}\n",
    "\n",
    "# Uncomment this line to redo genre calculating\n",
    "#example_genres = None"
   ]
  },
  {
   "cell_type": "code",
   "execution_count": 10,
   "id": "moving-alfred",
   "metadata": {},
   "outputs": [],
   "source": [
    "# Ask the user whether they like each genre or not.\n",
    "if(example_genres is None):\n",
    "    for genre in user_genres:\n",
    "        ans = input(f\"Do you like the {genre} genre? (y/n): \")\n",
    "        if(ans == \"y\"):\n",
    "            # Value is 1 if the user likes the genre and 0 otherwise\n",
    "            user_genres[genre] += 1\n",
    "else:\n",
    "    user_genres = example_genres"
   ]
  },
  {
   "cell_type": "code",
   "execution_count": 11,
   "id": "presidential-timber",
   "metadata": {},
   "outputs": [
    {
     "data": {
      "text/plain": [
       "{'Drama': 1,\n",
       " 'Comedy': 1,\n",
       " 'Thriller': 1,\n",
       " 'Action': 1,\n",
       " 'Romance': 0,\n",
       " 'Horror': 1,\n",
       " 'Crime': 0,\n",
       " 'Documentary': 0,\n",
       " 'Family': 0,\n",
       " 'Adventure': 1,\n",
       " 'TV Movie': 0,\n",
       " 'Mystery': 1,\n",
       " 'Science Fiction': 1,\n",
       " 'Western': 1,\n",
       " 'Fantasy': 0,\n",
       " 'Music': 0,\n",
       " 'History': 0,\n",
       " 'War': 1,\n",
       " 'Animation': 1}"
      ]
     },
     "execution_count": 11,
     "metadata": {},
     "output_type": "execute_result"
    }
   ],
   "source": [
    "user_genres"
   ]
  },
  {
   "cell_type": "code",
   "execution_count": 12,
   "id": "general-resolution",
   "metadata": {},
   "outputs": [],
   "source": [
    "# Summarize how a service performs for each genre and whether the user likes the genre or not\n",
    "genre_service_summaries = {key:[] for key in genres.service.unique()}\n",
    "for index, row in genres.iterrows():\n",
    "    # Append (genre's user score)*(genre's average score on service)*(genre's percentage of total on service)\n",
    "    genre_service_summaries[row[\"service\"]] += [user_genres.get(row[\"genre\"])*row[\"mean_score\"]*row[\"percentage_of_total\"]]"
   ]
  },
  {
   "cell_type": "code",
   "execution_count": 13,
   "id": "cognitive-reliance",
   "metadata": {},
   "outputs": [],
   "source": [
    "# Generate one-number genre summary for each service by calculating sum of all genre values \n",
    "# Sum chosen because scores of 0 should not impact choice considering that the genre can be ignored on service\n",
    "for key, value in genre_service_summaries.items():\n",
    "    genre_service_summaries[key] = np.sum(value)"
   ]
  },
  {
   "cell_type": "code",
   "execution_count": 51,
   "id": "super-charge",
   "metadata": {},
   "outputs": [
    {
     "data": {
      "text/plain": [
       "{'amazon': 4.0411956663620945,\n",
       " 'disney': 3.620682730923695,\n",
       " 'hbo': 4.193505929997107,\n",
       " 'hulu': 4.314811529933482,\n",
       " 'netflix': 4.276764138491216}"
      ]
     },
     "execution_count": 51,
     "metadata": {},
     "output_type": "execute_result"
    }
   ],
   "source": [
    "scores.update({\"genre\": genre_service_summaries})\n",
    "genre_service_summaries"
   ]
  },
  {
   "cell_type": "code",
   "execution_count": 52,
   "id": "multiple-newcastle",
   "metadata": {},
   "outputs": [
    {
     "name": "stdout",
     "output_type": "stream",
     "text": [
      "hulu\n"
     ]
    }
   ],
   "source": [
    "# Ideal service based on genres alone is the one with the highest total genre score\n",
    "print(max(genre_service_summaries, key=genre_service_summaries.get))"
   ]
  },
  {
   "cell_type": "markdown",
   "id": "adult-smell",
   "metadata": {},
   "source": [
    "### Ratings\n",
    "\n",
    "Finding the \"best\" streaming service for a user based on rating preferences."
   ]
  },
  {
   "cell_type": "code",
   "execution_count": 16,
   "id": "sunset-logistics",
   "metadata": {},
   "outputs": [],
   "source": [
    "user_ratings = {rating:0 for rating in ratings.rating.unique()}"
   ]
  },
  {
   "cell_type": "code",
   "execution_count": 17,
   "id": "becoming-eagle",
   "metadata": {},
   "outputs": [],
   "source": [
    "children = {'G': 1, 'NC-17': -1, 'NR': -1, 'PG': 1, 'PG-13': 0, 'R': -1}\n",
    "no_adult_content = {'G': 0, 'NC-17': -1, 'NR': -1, 'PG': 0, 'PG-13': 0, 'R': 0}\n",
    "middle_ground = {'G': 0, 'NC-17': -1, 'NR': -1, 'PG': 0, 'PG-13': 1, 'R': 1}\n",
    "anything_goes = {'G': 0, 'NC-17': 0, 'NR': 0, 'PG': 0, 'PG-13': 0, 'R': 0}\n",
    "example_ratings = random.choice([children, no_adult_content, middle_ground, anything_goes])\n",
    "\n",
    "#example_ratings = None"
   ]
  },
  {
   "cell_type": "code",
   "execution_count": 18,
   "id": "hindu-thread",
   "metadata": {},
   "outputs": [],
   "source": [
    "if(example_ratings is None):\n",
    "    for rating in user_ratings:\n",
    "        ans = input(f\"Are you okay with the {rating} rating being on your service? (1: want, 0: don't care, -1: don't want): \")\n",
    "        user_ratings[rating] = int(ans)\n",
    "else:\n",
    "    user_ratings = example_ratings"
   ]
  },
  {
   "cell_type": "code",
   "execution_count": 19,
   "id": "thousand-booth",
   "metadata": {},
   "outputs": [
    {
     "data": {
      "text/plain": [
       "{'G': 1, 'NC-17': -1, 'NR': -1, 'PG': 1, 'PG-13': 0, 'R': -1}"
      ]
     },
     "execution_count": 19,
     "metadata": {},
     "output_type": "execute_result"
    }
   ],
   "source": [
    "user_ratings"
   ]
  },
  {
   "cell_type": "code",
   "execution_count": 20,
   "id": "limited-miniature",
   "metadata": {},
   "outputs": [],
   "source": [
    "# Summarize how a service performs for each genre and whether the user likes the genre or not\n",
    "rating_service_summaries = {key:[] for key in ratings.service.unique()}\n",
    "for index, row in ratings.iterrows():\n",
    "    # Append (genre's user score)*(genre's average score on service)*(genre's percentage of total on service)\n",
    "    rating_service_summaries[row[\"service\"]] += [user_ratings.get(row[\"rating\"])*row[\"mean_score\"]*row[\"percentage_of_total\"]]"
   ]
  },
  {
   "cell_type": "code",
   "execution_count": 22,
   "id": "preliminary-factor",
   "metadata": {},
   "outputs": [],
   "source": [
    "# Generate one-number genre summary for each service by calculating sum of all genre values \n",
    "# Sum chosen because scores of 0 should not impact choice considering that the genre can be ignored on service\n",
    "for key, value in rating_service_summaries.items():\n",
    "    rating_service_summaries[key] = np.sum(value)"
   ]
  },
  {
   "cell_type": "code",
   "execution_count": 54,
   "id": "sonic-blake",
   "metadata": {},
   "outputs": [
    {
     "data": {
      "text/plain": [
       "{'amazon': -1.8167257360959654,\n",
       " 'disney': 5.926157407407411,\n",
       " 'hbo': -0.2796531302876506,\n",
       " 'hulu': -1.8096704871060156,\n",
       " 'netflix': -1.8732179226069232}"
      ]
     },
     "execution_count": 54,
     "metadata": {},
     "output_type": "execute_result"
    }
   ],
   "source": [
    "scores.update({\"rating\": rating_service_summaries})\n",
    "rating_service_summaries"
   ]
  },
  {
   "cell_type": "code",
   "execution_count": 24,
   "id": "binding-lancaster",
   "metadata": {},
   "outputs": [
    {
     "name": "stdout",
     "output_type": "stream",
     "text": [
      "disney\n"
     ]
    }
   ],
   "source": [
    "# Ideal service based on ratings alone is the one with the highest total rating score\n",
    "print(max(rating_service_summaries, key=rating_service_summaries.get))"
   ]
  },
  {
   "cell_type": "markdown",
   "id": "binding-metallic",
   "metadata": {},
   "source": [
    "### Decades\n",
    "\n",
    "Finding the \"best\" streaming service for a user based on decade preferences."
   ]
  },
  {
   "cell_type": "code",
   "execution_count": 34,
   "id": "dress-thong",
   "metadata": {},
   "outputs": [],
   "source": [
    "user_decades = {decade:0 for decade in sorted(decades.decade.unique())}"
   ]
  },
  {
   "cell_type": "code",
   "execution_count": 35,
   "id": "judicial-butterfly",
   "metadata": {},
   "outputs": [],
   "source": [
    "example_decades = {1910: 0, 1920: 0, 1930: 0, 1940: 0, 1950: 1, 1960: 1, 1970: 1, 1980: 1, 1990: 0, 2000: 0, 2010: 0, 2020: 0}\n",
    "\n",
    "#example_decades = None"
   ]
  },
  {
   "cell_type": "code",
   "execution_count": 36,
   "id": "greek-string",
   "metadata": {},
   "outputs": [],
   "source": [
    "if(example_decades is None):\n",
    "    for decade in user_decades:\n",
    "        ans = input(f\"Do you like movies from the {decade}s? (y/n): \")\n",
    "        user_decades[decade] = 1 if ans == \"y\" else 0\n",
    "else:\n",
    "    user_decades = example_decades"
   ]
  },
  {
   "cell_type": "code",
   "execution_count": 37,
   "id": "conventional-penetration",
   "metadata": {},
   "outputs": [
    {
     "name": "stdout",
     "output_type": "stream",
     "text": [
      "{1910: 0, 1920: 0, 1930: 0, 1940: 0, 1950: 1, 1960: 1, 1970: 1, 1980: 1, 1990: 0, 2000: 0, 2010: 0, 2020: 0}\n"
     ]
    }
   ],
   "source": [
    "print(user_decades)"
   ]
  },
  {
   "cell_type": "code",
   "execution_count": 46,
   "id": "recent-shopper",
   "metadata": {},
   "outputs": [],
   "source": [
    "# Summarize how a service performs for each decade and whether the user likes the decade or not\n",
    "decade_service_summaries = {key:[] for key in decades.service.unique()}\n",
    "for index, row in decades.iterrows():\n",
    "    # Append (decade's user score)*(decade's average score on service)*(decade's total count on service)\n",
    "    decade_service_summaries[row[\"service\"]] += [user_decades.get(row[\"decade\"])*row[\"mean_score\"]*row[\"percentage_of_total\"]]"
   ]
  },
  {
   "cell_type": "code",
   "execution_count": 48,
   "id": "resident-threat",
   "metadata": {},
   "outputs": [],
   "source": [
    "# Generate one-number genre summary for each service by calculating sum of all genre values \n",
    "# Sum chosen because scores of 0 should not impact choice considering that the genre can be ignored on service\n",
    "for key, value in decade_service_summaries.items():\n",
    "    decade_service_summaries[key] = np.sum(value)"
   ]
  },
  {
   "cell_type": "code",
   "execution_count": 64,
   "id": "geological-sessions",
   "metadata": {},
   "outputs": [
    {
     "name": "stdout",
     "output_type": "stream",
     "text": [
      "{'amazon': 0.8039797770287788, 'disney': 1.0868055555555556, 'hbo': 1.6203562340966915, 'hulu': 0.46923076923076923, 'netflix': 0.2829501525940997}\n"
     ]
    },
    {
     "data": {
      "text/plain": [
       "['hbo', 'disney', 'amazon', 'hulu', 'netflix']"
      ]
     },
     "execution_count": 64,
     "metadata": {},
     "output_type": "execute_result"
    }
   ],
   "source": [
    "scores.update({\"decades\": decade_service_summaries})\n",
    "print(decade_service_summaries)\n",
    "sorted(decade_service_summaries, key=decade_service_summaries.__getitem__)[::-1]"
   ]
  },
  {
   "cell_type": "markdown",
   "id": "flush-collar",
   "metadata": {},
   "source": [
    "## Final Evaluation"
   ]
  },
  {
   "cell_type": "code",
   "execution_count": 70,
   "id": "german-improvement",
   "metadata": {},
   "outputs": [],
   "source": [
    "# Count the number of category top 3 placements for each service\n",
    "services = {service: 0 for service in movies.service.unique()}\n",
    "for i in scores:\n",
    "    # First place gets 3 points, second gets 2, \n",
    "    sorted_scores = sorted(scores[i], key=scores[i].__getitem__)[2:]\n",
    "    for index, value in enumerate(sorted_scores):\n",
    "        services[value] += index+1"
   ]
  },
  {
   "cell_type": "code",
   "execution_count": 71,
   "id": "sized-aquarium",
   "metadata": {},
   "outputs": [
    {
     "data": {
      "text/plain": [
       "{'netflix': 2, 'amazon': 1, 'hulu': 4, 'hbo': 6, 'disney': 5}"
      ]
     },
     "execution_count": 71,
     "metadata": {},
     "output_type": "execute_result"
    }
   ],
   "source": [
    "services"
   ]
  }
 ],
 "metadata": {
  "kernelspec": {
   "display_name": "Python 3",
   "language": "python",
   "name": "python3"
  },
  "language_info": {
   "codemirror_mode": {
    "name": "ipython",
    "version": 3
   },
   "file_extension": ".py",
   "mimetype": "text/x-python",
   "name": "python",
   "nbconvert_exporter": "python",
   "pygments_lexer": "ipython3",
   "version": "3.8.5"
  }
 },
 "nbformat": 4,
 "nbformat_minor": 5
}
