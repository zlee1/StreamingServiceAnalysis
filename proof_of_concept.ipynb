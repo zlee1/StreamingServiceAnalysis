{
 "cells": [
  {
   "cell_type": "markdown",
   "id": "certified-palmer",
   "metadata": {},
   "source": [
    "# Proof of Concept\n",
    "\n",
    "This exists to decide whether the overall goal of this project is feasible or not. It will be doing some of the following tasks:\n",
    "* Asking for user inputs for preference deciding\n",
    "* Generating metric that represents a user\n",
    "* Generating metric that represents a service\n",
    "* Comparing user to services and finding best fit"
   ]
  },
  {
   "cell_type": "code",
   "execution_count": 53,
   "id": "compound-israel",
   "metadata": {},
   "outputs": [],
   "source": [
    "import pandas as pd\n",
    "import numpy as np\n",
    "from pandasql import sqldf"
   ]
  },
  {
   "cell_type": "code",
   "execution_count": 25,
   "id": "drawn-carrier",
   "metadata": {},
   "outputs": [],
   "source": [
    "movies = pd.read_csv(\"data/modified/movies_api_imdb_merged.csv\")\n",
    "genres = pd.read_csv(\"data/modified/service_genres_counted.csv\")\n",
    "ratings = pd.read_csv(\"data/modified/ratings_counted.csv\")"
   ]
  },
  {
   "cell_type": "code",
   "execution_count": 39,
   "id": "solid-development",
   "metadata": {},
   "outputs": [
    {
     "data": {
      "text/plain": [
       "['title',\n",
       " 'release_year',\n",
       " 'type',\n",
       " 'rating',\n",
       " 'service',\n",
       " 'tmdb_id',\n",
       " 'genres',\n",
       " 'imdb_id',\n",
       " 'popularity',\n",
       " 'tmdb_score',\n",
       " 'tmdb_count',\n",
       " 'poster_path',\n",
       " 'budget',\n",
       " 'revenue',\n",
       " 'runtime',\n",
       " 'tconst',\n",
       " 'imdb_score',\n",
       " 'imdb_count',\n",
       " 'mean_score',\n",
       " 'mean_num_votes']"
      ]
     },
     "execution_count": 39,
     "metadata": {},
     "output_type": "execute_result"
    }
   ],
   "source": [
    "list(movies.columns)"
   ]
  },
  {
   "cell_type": "code",
   "execution_count": 38,
   "id": "spiritual-poetry",
   "metadata": {},
   "outputs": [
    {
     "data": {
      "text/plain": [
       "['service',\n",
       " 'type',\n",
       " 'genre',\n",
       " 'count',\n",
       " 'mean_score',\n",
       " 'mean_popularity',\n",
       " 'total_on_service',\n",
       " 'percentage_of_total']"
      ]
     },
     "execution_count": 38,
     "metadata": {},
     "output_type": "execute_result"
    }
   ],
   "source": [
    "list(genres.columns)"
   ]
  },
  {
   "cell_type": "code",
   "execution_count": 40,
   "id": "fantastic-antarctica",
   "metadata": {},
   "outputs": [
    {
     "data": {
      "text/plain": [
       "['service',\n",
       " 'type',\n",
       " 'count',\n",
       " 'rating',\n",
       " 'mean_score',\n",
       " 'mean_popularity',\n",
       " 'total_on_service',\n",
       " 'percentage_of_total']"
      ]
     },
     "execution_count": 40,
     "metadata": {},
     "output_type": "execute_result"
    }
   ],
   "source": [
    "list(ratings.columns)"
   ]
  },
  {
   "cell_type": "markdown",
   "id": "blond-resident",
   "metadata": {},
   "source": [
    "## Genres\n",
    "\n",
    "Finding the \"best\" streaming service for a user based on genre preferences."
   ]
  },
  {
   "cell_type": "code",
   "execution_count": 26,
   "id": "saving-renaissance",
   "metadata": {},
   "outputs": [],
   "source": [
    "# Dictionary of genres and corresponding user-input values initialized to 0\n",
    "user_genres = {key: 0 for key in genres.genre.unique()}"
   ]
  },
  {
   "cell_type": "code",
   "execution_count": 27,
   "id": "overall-sector",
   "metadata": {},
   "outputs": [],
   "source": [
    "# A dictionary generated to provide an example response set for genres\n",
    "example_response = {'Drama': 1,'Comedy': 1,'Thriller': 1,'Action': 1,'Romance': 0,'Horror': 1,'Crime': 0,'Documentary': 0,'Family': 0,'Adventure': 1,'TV Movie': 0,'Mystery': 1,'Science Fiction': 1,'Western': 1,'Fantasy': 0,'Music': 0,'History': 0,'War': 1,'Animation': 1}\n",
    "\n",
    "# Uncomment this line to redo genre calculating\n",
    "#example_response = None"
   ]
  },
  {
   "cell_type": "code",
   "execution_count": 28,
   "id": "supported-hands",
   "metadata": {},
   "outputs": [],
   "source": [
    "# Ask the user whether they like each genre or not.\n",
    "if(example_response == None):\n",
    "    for genre in user_genres:\n",
    "        ans = input(f\"Do you like the {genre} genre? (y/n): \")\n",
    "        if(ans == \"y\"):\n",
    "            # Value is 1 if the user likes the genre and 0 otherwise\n",
    "            user_genres[genre] += 1\n",
    "else:\n",
    "    user_genres = example_response"
   ]
  },
  {
   "cell_type": "code",
   "execution_count": 29,
   "id": "grave-arrow",
   "metadata": {},
   "outputs": [
    {
     "data": {
      "text/plain": [
       "{'Drama': 1,\n",
       " 'Comedy': 1,\n",
       " 'Thriller': 1,\n",
       " 'Action': 1,\n",
       " 'Romance': 0,\n",
       " 'Horror': 1,\n",
       " 'Crime': 0,\n",
       " 'Documentary': 0,\n",
       " 'Family': 0,\n",
       " 'Adventure': 1,\n",
       " 'TV Movie': 0,\n",
       " 'Mystery': 1,\n",
       " 'Science Fiction': 1,\n",
       " 'Western': 1,\n",
       " 'Fantasy': 0,\n",
       " 'Music': 0,\n",
       " 'History': 0,\n",
       " 'War': 1,\n",
       " 'Animation': 1}"
      ]
     },
     "execution_count": 29,
     "metadata": {},
     "output_type": "execute_result"
    }
   ],
   "source": [
    "user_genres"
   ]
  },
  {
   "cell_type": "code",
   "execution_count": 68,
   "id": "genetic-practice",
   "metadata": {},
   "outputs": [],
   "source": [
    "# Summarize how a service performs for each genre and whether the user likes the genre or not\n",
    "genre_service_summaries = {key:[] for key in genres.service.unique()}\n",
    "for index, row in genres.iterrows():\n",
    "    # Append (genre's user score)*(genre's average score on service)*(genre's percentage of total on service)\n",
    "    genre_service_summaries[row[\"service\"]] += [user_genres.get(row[\"genre\"])*row[\"mean_score\"]*row[\"percentage_of_total\"]]"
   ]
  },
  {
   "cell_type": "code",
   "execution_count": 69,
   "id": "color-translation",
   "metadata": {},
   "outputs": [],
   "source": [
    "# Generate one-number genre summary for each service by calculating sum of all genre values \n",
    "# Sum chosen because scores of 0 should not impact choice considering that the genre can be ignored on service\n",
    "for key, value in genre_service_summaries.items():\n",
    "    genre_service_summaries[key] = np.sum(value)"
   ]
  },
  {
   "cell_type": "code",
   "execution_count": 70,
   "id": "technical-taste",
   "metadata": {},
   "outputs": [
    {
     "data": {
      "text/plain": [
       "{'amazon': 4.0411956663620945,\n",
       " 'disney': 3.620682730923695,\n",
       " 'hbo': 4.193505929997107,\n",
       " 'hulu': 4.314811529933482,\n",
       " 'netflix': 4.276764138491216}"
      ]
     },
     "execution_count": 70,
     "metadata": {},
     "output_type": "execute_result"
    }
   ],
   "source": [
    "genre_service_summaries"
   ]
  },
  {
   "cell_type": "code",
   "execution_count": 71,
   "id": "suburban-headquarters",
   "metadata": {},
   "outputs": [
    {
     "name": "stdout",
     "output_type": "stream",
     "text": [
      "hulu\n"
     ]
    }
   ],
   "source": [
    "# Ideal service based on genres alone is the one with the highest median genre score\n",
    "print(max(genre_service_summaries, key=genre_service_summaries.get))"
   ]
  }
 ],
 "metadata": {
  "kernelspec": {
   "display_name": "Python 3",
   "language": "python",
   "name": "python3"
  },
  "language_info": {
   "codemirror_mode": {
    "name": "ipython",
    "version": 3
   },
   "file_extension": ".py",
   "mimetype": "text/x-python",
   "name": "python",
   "nbconvert_exporter": "python",
   "pygments_lexer": "ipython3",
   "version": "3.8.5"
  }
 },
 "nbformat": 4,
 "nbformat_minor": 5
}
