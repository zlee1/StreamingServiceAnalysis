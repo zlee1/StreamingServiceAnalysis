{
 "cells": [
  {
   "cell_type": "code",
   "execution_count": 44,
   "id": "hungarian-religion",
   "metadata": {},
   "outputs": [],
   "source": [
    "import pandas as pd\n",
    "import numpy as np\n",
    "from pandasql import sqldf"
   ]
  },
  {
   "cell_type": "code",
   "execution_count": 45,
   "id": "certain-tolerance",
   "metadata": {},
   "outputs": [],
   "source": [
    "amazon = pd.read_csv(\"data/amazon_prime_titles.csv\").assign(service=\"amazon\")\n",
    "disney = pd.read_csv(\"data/disney_plus_titles.csv\").assign(service=\"disney\")\n",
    "#hbo = pd.read_csv(\"data/HBO_MAX_Content.csv\")\n",
    "hulu = pd.read_csv(\"data/hulu_titles.csv\").assign(service=\"hulu\")\n",
    "netflix = pd.read_csv(\"data/netflix_titles.csv\").assign(service=\"netflix\")\n",
    "raw_dfs = [amazon,disney,hulu,netflix]"
   ]
  },
  {
   "cell_type": "code",
   "execution_count": 46,
   "id": "intellectual-peninsula",
   "metadata": {},
   "outputs": [],
   "source": [
    "new_dfs = []\n",
    "for df in raw_dfs:\n",
    "    new_dfs.append(sqldf(\"SELECT * FROM df WHERE type == \\\"Movie\\\"\"))\n",
    "amazon = new_dfs[0]\n",
    "disney = new_dfs[1]\n",
    "hulu = new_dfs[2]\n",
    "netflix = new_dfs[3]"
   ]
  },
  {
   "cell_type": "code",
   "execution_count": 47,
   "id": "quality-advancement",
   "metadata": {},
   "outputs": [],
   "source": [
    "services = raw_dfs[0].copy()\n",
    "for df in raw_dfs[1:]:\n",
    "    services = sqldf(\"SELECT * FROM services UNION SELECT * FROM df\")"
   ]
  },
  {
   "cell_type": "code",
   "execution_count": 48,
   "id": "suffering-color",
   "metadata": {},
   "outputs": [
    {
     "data": {
      "text/html": [
       "<div>\n",
       "<style scoped>\n",
       "    .dataframe tbody tr th:only-of-type {\n",
       "        vertical-align: middle;\n",
       "    }\n",
       "\n",
       "    .dataframe tbody tr th {\n",
       "        vertical-align: top;\n",
       "    }\n",
       "\n",
       "    .dataframe thead th {\n",
       "        text-align: right;\n",
       "    }\n",
       "</style>\n",
       "<table border=\"1\" class=\"dataframe\">\n",
       "  <thead>\n",
       "    <tr style=\"text-align: right;\">\n",
       "      <th></th>\n",
       "      <th>mean_year</th>\n",
       "      <th>n_titles</th>\n",
       "      <th>service</th>\n",
       "    </tr>\n",
       "  </thead>\n",
       "  <tbody>\n",
       "    <tr>\n",
       "      <th>0</th>\n",
       "      <td>2008.341849</td>\n",
       "      <td>9668</td>\n",
       "      <td>amazon</td>\n",
       "    </tr>\n",
       "    <tr>\n",
       "      <th>1</th>\n",
       "      <td>2003.091724</td>\n",
       "      <td>1450</td>\n",
       "      <td>disney</td>\n",
       "    </tr>\n",
       "    <tr>\n",
       "      <th>2</th>\n",
       "      <td>2012.567524</td>\n",
       "      <td>3073</td>\n",
       "      <td>hulu</td>\n",
       "    </tr>\n",
       "    <tr>\n",
       "      <th>3</th>\n",
       "      <td>2014.180198</td>\n",
       "      <td>8807</td>\n",
       "      <td>netflix</td>\n",
       "    </tr>\n",
       "  </tbody>\n",
       "</table>\n",
       "</div>"
      ],
      "text/plain": [
       "     mean_year  n_titles  service\n",
       "0  2008.341849      9668   amazon\n",
       "1  2003.091724      1450   disney\n",
       "2  2012.567524      3073     hulu\n",
       "3  2014.180198      8807  netflix"
      ]
     },
     "execution_count": 48,
     "metadata": {},
     "output_type": "execute_result"
    }
   ],
   "source": [
    "basic_stats = sqldf(\"SELECT AVG(release_year) as mean_year, COUNT(*) as n_titles, service FROM services GROUP BY service\")\n",
    "basic_stats"
   ]
  },
  {
   "cell_type": "code",
   "execution_count": null,
   "id": "differential-squad",
   "metadata": {},
   "outputs": [],
   "source": []
  }
 ],
 "metadata": {
  "kernelspec": {
   "display_name": "Python 3",
   "language": "python",
   "name": "python3"
  },
  "language_info": {
   "codemirror_mode": {
    "name": "ipython",
    "version": 3
   },
   "file_extension": ".py",
   "mimetype": "text/x-python",
   "name": "python",
   "nbconvert_exporter": "python",
   "pygments_lexer": "ipython3",
   "version": "3.8.5"
  }
 },
 "nbformat": 4,
 "nbformat_minor": 5
}
