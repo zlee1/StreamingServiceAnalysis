{
 "cells": [
  {
   "cell_type": "code",
   "execution_count": 1,
   "id": "hungarian-religion",
   "metadata": {},
   "outputs": [],
   "source": [
    "import pandas as pd\n",
    "import numpy as np\n",
    "from pandasql import sqldf"
   ]
  },
  {
   "cell_type": "markdown",
   "id": "interior-front",
   "metadata": {},
   "source": [
    "## Importing Data"
   ]
  },
  {
   "cell_type": "code",
   "execution_count": 2,
   "id": "certain-tolerance",
   "metadata": {},
   "outputs": [],
   "source": [
    "# Add column with service name to each DataFrame\n",
    "amazon = pd.read_csv(\"data/amazon_clean.csv\").assign(service=\"amazon\")\n",
    "disney = pd.read_csv(\"data/disney_clean.csv\").assign(service=\"disney\")\n",
    "hulu = pd.read_csv(\"data/hulu_clean.csv\").assign(service=\"hulu\")\n",
    "netflix = pd.read_csv(\"data/netflix_clean.csv\").assign(service=\"netflix\")"
   ]
  },
  {
   "cell_type": "code",
   "execution_count": 3,
   "id": "abroad-liberty",
   "metadata": {},
   "outputs": [],
   "source": [
    "raw_dfs = [amazon,disney,hulu,netflix]"
   ]
  },
  {
   "cell_type": "markdown",
   "id": "unknown-perfume",
   "metadata": {},
   "source": [
    "## Initial Restriction and Combining"
   ]
  },
  {
   "cell_type": "code",
   "execution_count": 4,
   "id": "naval-japanese",
   "metadata": {},
   "outputs": [],
   "source": [
    "# Combine all DataFrames\n",
    "services = raw_dfs[0].copy()\n",
    "for df in raw_dfs[1:]:\n",
    "    services = sqldf(\"SELECT * FROM services UNION SELECT * FROM df\")"
   ]
  },
  {
   "cell_type": "code",
   "execution_count": 5,
   "id": "steady-tuesday",
   "metadata": {},
   "outputs": [
    {
     "data": {
      "text/html": [
       "<div>\n",
       "<style scoped>\n",
       "    .dataframe tbody tr th:only-of-type {\n",
       "        vertical-align: middle;\n",
       "    }\n",
       "\n",
       "    .dataframe tbody tr th {\n",
       "        vertical-align: top;\n",
       "    }\n",
       "\n",
       "    .dataframe thead th {\n",
       "        text-align: right;\n",
       "    }\n",
       "</style>\n",
       "<table border=\"1\" class=\"dataframe\">\n",
       "  <thead>\n",
       "    <tr style=\"text-align: right;\">\n",
       "      <th></th>\n",
       "      <th>type</th>\n",
       "      <th>title</th>\n",
       "      <th>country</th>\n",
       "      <th>date_added</th>\n",
       "      <th>release_year</th>\n",
       "      <th>rating</th>\n",
       "      <th>duration</th>\n",
       "      <th>listed_in</th>\n",
       "      <th>description</th>\n",
       "      <th>service</th>\n",
       "    </tr>\n",
       "  </thead>\n",
       "  <tbody>\n",
       "    <tr>\n",
       "      <th>0</th>\n",
       "      <td>Movie</td>\n",
       "      <td>\"Mixed Up\"</td>\n",
       "      <td>None</td>\n",
       "      <td>None</td>\n",
       "      <td>2020</td>\n",
       "      <td>16+</td>\n",
       "      <td>106</td>\n",
       "      <td>Drama,Romance</td>\n",
       "      <td>\"Mixed Up\" examines casual factors that make u...</td>\n",
       "      <td>amazon</td>\n",
       "    </tr>\n",
       "    <tr>\n",
       "      <th>1</th>\n",
       "      <td>Movie</td>\n",
       "      <td>#Alive</td>\n",
       "      <td>South Korea</td>\n",
       "      <td>September 8, 2020</td>\n",
       "      <td>2020</td>\n",
       "      <td>TV-MA</td>\n",
       "      <td>99</td>\n",
       "      <td>Horror,International,Thriller</td>\n",
       "      <td>As a grisly virus rampages a city, a lone man ...</td>\n",
       "      <td>netflix</td>\n",
       "    </tr>\n",
       "    <tr>\n",
       "      <th>2</th>\n",
       "      <td>Movie</td>\n",
       "      <td>#AnneFrank - Parallel Stories</td>\n",
       "      <td>Italy</td>\n",
       "      <td>July 1, 2020</td>\n",
       "      <td>2019</td>\n",
       "      <td>TV-14</td>\n",
       "      <td>95</td>\n",
       "      <td>Documentary,International</td>\n",
       "      <td>Through her diary, Anne Frank's story is retol...</td>\n",
       "      <td>netflix</td>\n",
       "    </tr>\n",
       "    <tr>\n",
       "      <th>3</th>\n",
       "      <td>Movie</td>\n",
       "      <td>#FriendButMarried</td>\n",
       "      <td>Indonesia</td>\n",
       "      <td>May 21, 2020</td>\n",
       "      <td>2018</td>\n",
       "      <td>TV-G</td>\n",
       "      <td>102</td>\n",
       "      <td>Drama,International,Romance</td>\n",
       "      <td>Pining for his high school crush for years, a ...</td>\n",
       "      <td>netflix</td>\n",
       "    </tr>\n",
       "    <tr>\n",
       "      <th>4</th>\n",
       "      <td>Movie</td>\n",
       "      <td>#FriendButMarried 2</td>\n",
       "      <td>Indonesia</td>\n",
       "      <td>June 28, 2020</td>\n",
       "      <td>2020</td>\n",
       "      <td>TV-G</td>\n",
       "      <td>104</td>\n",
       "      <td>Drama,International,Romance</td>\n",
       "      <td>As Ayu and Ditto finally transition from best ...</td>\n",
       "      <td>netflix</td>\n",
       "    </tr>\n",
       "  </tbody>\n",
       "</table>\n",
       "</div>"
      ],
      "text/plain": [
       "    type                          title      country         date_added  \\\n",
       "0  Movie                     \"Mixed Up\"         None               None   \n",
       "1  Movie                         #Alive  South Korea  September 8, 2020   \n",
       "2  Movie  #AnneFrank - Parallel Stories        Italy       July 1, 2020   \n",
       "3  Movie              #FriendButMarried    Indonesia       May 21, 2020   \n",
       "4  Movie            #FriendButMarried 2    Indonesia      June 28, 2020   \n",
       "\n",
       "   release_year rating  duration                      listed_in  \\\n",
       "0          2020    16+       106                  Drama,Romance   \n",
       "1          2020  TV-MA        99  Horror,International,Thriller   \n",
       "2          2019  TV-14        95      Documentary,International   \n",
       "3          2018   TV-G       102    Drama,International,Romance   \n",
       "4          2020   TV-G       104    Drama,International,Romance   \n",
       "\n",
       "                                         description  service  \n",
       "0  \"Mixed Up\" examines casual factors that make u...   amazon  \n",
       "1  As a grisly virus rampages a city, a lone man ...  netflix  \n",
       "2  Through her diary, Anne Frank's story is retol...  netflix  \n",
       "3  Pining for his high school crush for years, a ...  netflix  \n",
       "4  As Ayu and Ditto finally transition from best ...  netflix  "
      ]
     },
     "execution_count": 5,
     "metadata": {},
     "output_type": "execute_result"
    }
   ],
   "source": [
    "services.head()"
   ]
  },
  {
   "cell_type": "code",
   "execution_count": 6,
   "id": "finite-laser",
   "metadata": {},
   "outputs": [],
   "source": [
    "# Separate DataFrames based on content type \n",
    "movies = sqldf(\"SELECT * FROM services WHERE type == \\\"Movie\\\"\")\n",
    "tv = sqldf(\"SELECT * FROM services WHERE type == \\\"TV Show\\\"\")"
   ]
  },
  {
   "cell_type": "markdown",
   "id": "golden-pitch",
   "metadata": {},
   "source": [
    "## Basic Stats Computation"
   ]
  },
  {
   "cell_type": "code",
   "execution_count": 7,
   "id": "western-rogers",
   "metadata": {},
   "outputs": [
    {
     "data": {
      "text/html": [
       "<div>\n",
       "<style scoped>\n",
       "    .dataframe tbody tr th:only-of-type {\n",
       "        vertical-align: middle;\n",
       "    }\n",
       "\n",
       "    .dataframe tbody tr th {\n",
       "        vertical-align: top;\n",
       "    }\n",
       "\n",
       "    .dataframe thead th {\n",
       "        text-align: right;\n",
       "    }\n",
       "</style>\n",
       "<table border=\"1\" class=\"dataframe\">\n",
       "  <thead>\n",
       "    <tr style=\"text-align: right;\">\n",
       "      <th></th>\n",
       "      <th>mean_year</th>\n",
       "      <th>n_titles</th>\n",
       "      <th>service</th>\n",
       "    </tr>\n",
       "  </thead>\n",
       "  <tbody>\n",
       "    <tr>\n",
       "      <th>0</th>\n",
       "      <td>2006.875577</td>\n",
       "      <td>7804</td>\n",
       "      <td>amazon</td>\n",
       "    </tr>\n",
       "    <tr>\n",
       "      <th>1</th>\n",
       "      <td>1999.169685</td>\n",
       "      <td>1049</td>\n",
       "      <td>disney</td>\n",
       "    </tr>\n",
       "    <tr>\n",
       "      <th>2</th>\n",
       "      <td>2011.942174</td>\n",
       "      <td>1297</td>\n",
       "      <td>hulu</td>\n",
       "    </tr>\n",
       "    <tr>\n",
       "      <th>3</th>\n",
       "      <td>2013.108824</td>\n",
       "      <td>6074</td>\n",
       "      <td>netflix</td>\n",
       "    </tr>\n",
       "  </tbody>\n",
       "</table>\n",
       "</div>"
      ],
      "text/plain": [
       "     mean_year  n_titles  service\n",
       "0  2006.875577      7804   amazon\n",
       "1  1999.169685      1049   disney\n",
       "2  2011.942174      1297     hulu\n",
       "3  2013.108824      6074  netflix"
      ]
     },
     "execution_count": 7,
     "metadata": {},
     "output_type": "execute_result"
    }
   ],
   "source": [
    "# Find the mean release year of content as well as the total number of movies on each service\n",
    "basic_movie_stats = sqldf(\"SELECT AVG(release_year) as mean_year, COUNT(*) as n_titles, service FROM movies GROUP BY service\")\n",
    "basic_movie_stats"
   ]
  },
  {
   "cell_type": "code",
   "execution_count": 8,
   "id": "british-private",
   "metadata": {},
   "outputs": [
    {
     "data": {
      "text/html": [
       "<div>\n",
       "<style scoped>\n",
       "    .dataframe tbody tr th:only-of-type {\n",
       "        vertical-align: middle;\n",
       "    }\n",
       "\n",
       "    .dataframe tbody tr th {\n",
       "        vertical-align: top;\n",
       "    }\n",
       "\n",
       "    .dataframe thead th {\n",
       "        text-align: right;\n",
       "    }\n",
       "</style>\n",
       "<table border=\"1\" class=\"dataframe\">\n",
       "  <thead>\n",
       "    <tr style=\"text-align: right;\">\n",
       "      <th></th>\n",
       "      <th>mean_year</th>\n",
       "      <th>n_titles</th>\n",
       "      <th>service</th>\n",
       "    </tr>\n",
       "  </thead>\n",
       "  <tbody>\n",
       "    <tr>\n",
       "      <th>0</th>\n",
       "      <td>2014.385921</td>\n",
       "      <td>1591</td>\n",
       "      <td>amazon</td>\n",
       "    </tr>\n",
       "    <tr>\n",
       "      <th>1</th>\n",
       "      <td>2013.253165</td>\n",
       "      <td>395</td>\n",
       "      <td>disney</td>\n",
       "    </tr>\n",
       "    <tr>\n",
       "      <th>2</th>\n",
       "      <td>2012.530522</td>\n",
       "      <td>1589</td>\n",
       "      <td>hulu</td>\n",
       "    </tr>\n",
       "    <tr>\n",
       "      <th>3</th>\n",
       "      <td>2016.709398</td>\n",
       "      <td>2660</td>\n",
       "      <td>netflix</td>\n",
       "    </tr>\n",
       "  </tbody>\n",
       "</table>\n",
       "</div>"
      ],
      "text/plain": [
       "     mean_year  n_titles  service\n",
       "0  2014.385921      1591   amazon\n",
       "1  2013.253165       395   disney\n",
       "2  2012.530522      1589     hulu\n",
       "3  2016.709398      2660  netflix"
      ]
     },
     "execution_count": 8,
     "metadata": {},
     "output_type": "execute_result"
    }
   ],
   "source": [
    "# Find the mean release year of content as well as the total number of movies on each service\n",
    "basic_tv_stats = sqldf(\"SELECT AVG(release_year) as mean_year, COUNT(*) as n_titles, service FROM tv GROUP BY service\")\n",
    "basic_tv_stats"
   ]
  },
  {
   "cell_type": "markdown",
   "id": "private-pendant",
   "metadata": {},
   "source": [
    "## Genre Breakdown"
   ]
  },
  {
   "cell_type": "code",
   "execution_count": 9,
   "id": "scientific-conditions",
   "metadata": {},
   "outputs": [],
   "source": [
    "# Get a list of all genres that appear in movies\n",
    "movie_genres = []\n",
    "for index, row in movies.iterrows():\n",
    "    try:\n",
    "        for genre in row[\"listed_in\"].split(\",\"):\n",
    "            if(genre not in movie_genres):\n",
    "                movie_genres.append(genre)\n",
    "    except:\n",
    "        pass\n",
    "        \n",
    "            \n",
    "tv_genres = []\n",
    "for index, row in tv.iterrows():\n",
    "    try:\n",
    "        for genre in row[\"listed_in\"].split(\",\"):\n",
    "            if(genre not in tv_genres):\n",
    "                tv_genres.append(genre)\n",
    "    except:\n",
    "        pass"
   ]
  },
  {
   "cell_type": "code",
   "execution_count": null,
   "id": "unlike-shanghai",
   "metadata": {},
   "outputs": [],
   "source": [
    "# Append each instance of a genre to the service_genres DataFrame\n",
    "service_genres = pd.DataFrame(columns = [\"service\", \"type\", \"genre\"])\n",
    "for index, row in services.iterrows():\n",
    "    try:\n",
    "        for genre in row[\"listed_in\"].split(\",\"):\n",
    "            service_genres = service_genres.append({\"service\": row[\"service\"], \"type\": row[\"type\"], \"genre\": genre}, ignore_index=True)\n",
    "    except:\n",
    "        pass"
   ]
  },
  {
   "cell_type": "code",
   "execution_count": null,
   "id": "hidden-overhead",
   "metadata": {},
   "outputs": [],
   "source": [
    "service_genres.shape"
   ]
  },
  {
   "cell_type": "code",
   "execution_count": null,
   "id": "spiritual-negative",
   "metadata": {},
   "outputs": [],
   "source": [
    "# Count the instances of a genre for each service and type\n",
    "service_genres_counted = sqldf(\"SELECT service, type, genre, COUNT(*) as count FROM service_genres GROUP BY service, type, genre\")"
   ]
  },
  {
   "cell_type": "code",
   "execution_count": null,
   "id": "demographic-penguin",
   "metadata": {},
   "outputs": [],
   "source": [
    "# Separate movie genres from TV genres\n",
    "service_genres_movies = sqldf(\"SELECT * FROM service_genres_counted WHERE type == \\\"Movie\\\"\")"
   ]
  },
  {
   "cell_type": "code",
   "execution_count": null,
   "id": "rising-market",
   "metadata": {},
   "outputs": [],
   "source": [
    "# Separate TV genres from movie genres\n",
    "service_genres_tv = sqldf(\"SELECT * FROM service_genres_counted WHERE type == \\\"TV Show\\\"\")"
   ]
  },
  {
   "cell_type": "code",
   "execution_count": null,
   "id": "nominated-major",
   "metadata": {},
   "outputs": [],
   "source": [
    "# Find genres that only appear on one service\n",
    "single_service_movie_genres = sqldf(\"SELECT * FROM (SELECT genre, COUNT(DISTINCT(service)) as num_services FROM service_genres_movies GROUP BY genre) WHERE num_services == 1\")\n",
    "single_service_tv_genres = sqldf(\"SELECT * FROM (SELECT genre, COUNT(DISTINCT(service)) as num_services FROM service_genres_tv GROUP BY genre) WHERE num_services == 1\")"
   ]
  },
  {
   "cell_type": "code",
   "execution_count": null,
   "id": "adopted-jesus",
   "metadata": {},
   "outputs": [],
   "source": [
    "# Sort each service's genres by count\n",
    "service_genres_movies = sqldf(\"SELECT * FROM service_genres_movies ORDER BY service, count DESC\")\n",
    "service_genres_movies"
   ]
  },
  {
   "cell_type": "code",
   "execution_count": null,
   "id": "republican-orleans",
   "metadata": {
    "scrolled": false
   },
   "outputs": [],
   "source": [
    "# Get the top 5 genres on each service\n",
    "limit = 5\n",
    "frames = []\n",
    "for service in np.unique(service_genres_movies[\"service\"]):\n",
    "    frames.append(sqldf(f\"SELECT * FROM (SELECT * FROM service_genres_movies ORDER BY service, count DESC) WHERE service == \\\"{service}\\\" LIMIT {limit}\"))\n",
    "    \n",
    "top_by_genre = frames[0].copy()\n",
    "for frame in frames[1:]:\n",
    "    top_by_genre = sqldf(\"SELECT * FROM top_by_genre UNION SELECT * FROM frame\")\n",
    "top_by_genre = sqldf(\"SELECT * FROM top_by_genre ORDER BY service, count DESC\")\n",
    "top_by_genre"
   ]
  },
  {
   "cell_type": "code",
   "execution_count": null,
   "id": "genetic-housing",
   "metadata": {},
   "outputs": [],
   "source": [
    "# Get top service for each genre\n",
    "top_each_genre = sqldf(\"SELECT genre, service as top_service, MAX(count) as count FROM service_genres_movies WHERE genre NOT IN (SELECT genre FROM single_service_movie_genres) GROUP BY genre\")\n",
    "top_each_genre"
   ]
  },
  {
   "cell_type": "markdown",
   "id": "progressive-estimate",
   "metadata": {},
   "source": [
    "## Ratings\n",
    "\n",
    "G, PG, PG-13, R, etc. "
   ]
  },
  {
   "cell_type": "code",
   "execution_count": null,
   "id": "southeast-apollo",
   "metadata": {},
   "outputs": [],
   "source": [
    "ratings_by_service = sqldf(\"SELECT service, type, COUNT(rating) as count, rating FROM services GROUP BY service, rating\")\n",
    "ratings_by_service"
   ]
  },
  {
   "cell_type": "code",
   "execution_count": null,
   "id": "neutral-addition",
   "metadata": {},
   "outputs": [],
   "source": [
    "movie_ratings_by_service = sqldf(\"SELECT * FROM ratings_by_service WHERE type == \\\"Movie\\\"\")\n",
    "movie_ratings_by_service"
   ]
  },
  {
   "cell_type": "code",
   "execution_count": null,
   "id": "postal-starter",
   "metadata": {},
   "outputs": [],
   "source": []
  }
 ],
 "metadata": {
  "kernelspec": {
   "display_name": "Python 3",
   "language": "python",
   "name": "python3"
  },
  "language_info": {
   "codemirror_mode": {
    "name": "ipython",
    "version": 3
   },
   "file_extension": ".py",
   "mimetype": "text/x-python",
   "name": "python",
   "nbconvert_exporter": "python",
   "pygments_lexer": "ipython3",
   "version": "3.8.5"
  }
 },
 "nbformat": 4,
 "nbformat_minor": 5
}
