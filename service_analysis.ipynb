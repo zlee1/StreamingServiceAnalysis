{
 "cells": [
  {
   "cell_type": "code",
   "execution_count": 14,
   "id": "hungarian-religion",
   "metadata": {},
   "outputs": [],
   "source": [
    "import pandas as pd\n",
    "import numpy as np"
   ]
  },
  {
   "cell_type": "code",
   "execution_count": 6,
   "id": "certain-tolerance",
   "metadata": {},
   "outputs": [],
   "source": [
    "amazon = pd.read_csv(\"data/amazon_prime_titles.csv\")\n",
    "disney = pd.read_csv(\"data/disney_plus_titles.csv\")\n",
    "hbo = pd.read_csv(\"data/HBO_MAX_Content.csv\")\n",
    "hulu = pd.read_csv(\"data/hulu_titles.csv\")\n",
    "netflix = pd.read_csv(\"data/netflix_titles.csv\")\n",
    "raw_dfs = [amazon,disney,hbo,hulu,netflix]"
   ]
  }
 ],
 "metadata": {
  "kernelspec": {
   "display_name": "Python 3",
   "language": "python",
   "name": "python3"
  },
  "language_info": {
   "codemirror_mode": {
    "name": "ipython",
    "version": 3
   },
   "file_extension": ".py",
   "mimetype": "text/x-python",
   "name": "python",
   "nbconvert_exporter": "python",
   "pygments_lexer": "ipython3",
   "version": "3.8.5"
  }
 },
 "nbformat": 4,
 "nbformat_minor": 5
}
