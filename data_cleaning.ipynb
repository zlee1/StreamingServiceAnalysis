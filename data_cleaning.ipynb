{
 "cells": [
  {
   "cell_type": "code",
   "execution_count": 1,
   "id": "supreme-venice",
   "metadata": {},
   "outputs": [],
   "source": [
    "import pandas as pd\n",
    "import numpy as np\n",
    "from pandasql import sqldf"
   ]
  },
  {
   "cell_type": "markdown",
   "id": "unlimited-concern",
   "metadata": {},
   "source": [
    "## Importing Data"
   ]
  },
  {
   "cell_type": "code",
   "execution_count": 2,
   "id": "primary-seafood",
   "metadata": {},
   "outputs": [],
   "source": [
    "# Add column with service name to each DataFrame\n",
    "amazon = pd.read_csv(\"data/raw/amazon_prime_titles.csv\").assign(service=\"amazon\")\n",
    "disney = pd.read_csv(\"data/raw/disney_plus_titles.csv\").assign(service=\"disney\")\n",
    "hbo = pd.read_csv(\"data/raw/HBO_MAX_Content.csv\").assign(service=\"hbo\")\n",
    "hulu = pd.read_csv(\"data/raw/hulu_titles.csv\").assign(service=\"hulu\")\n",
    "netflix = pd.read_csv(\"data/raw/netflix_titles.csv\").assign(service=\"netflix\")"
   ]
  },
  {
   "cell_type": "markdown",
   "id": "analyzed-hostel",
   "metadata": {},
   "source": [
    "## Cleaning\n",
    "\n",
    "The only needed columns from raw data are: title, release year, type and rating. All other columns can be removed, as any necessary data is obtained through APIs or other datasets. "
   ]
  },
  {
   "cell_type": "code",
   "execution_count": 3,
   "id": "revised-entity",
   "metadata": {},
   "outputs": [],
   "source": [
    "# Most columns not needed. Select only important columns\n",
    "amazon = sqldf(\"SELECT title, release_year, type, rating, service FROM amazon\")\n",
    "disney = sqldf(\"SELECT title, release_year, type, rating, service FROM disney\")\n",
    "\n",
    "# Rename year as release_year for consistency across services\n",
    "hbo = sqldf(\"SELECT title, year as release_year, type, rating, service FROM hbo\")\n",
    "\n",
    "hulu = sqldf(\"SELECT title, release_year, type, rating, service FROM hulu\")\n",
    "netflix = sqldf(\"SELECT title, release_year, type, rating, service FROM netflix\")"
   ]
  },
  {
   "cell_type": "code",
   "execution_count": 4,
   "id": "built-square",
   "metadata": {},
   "outputs": [
    {
     "name": "stdout",
     "output_type": "stream",
     "text": [
      "['title', 'release_year', 'type', 'rating', 'service']\n",
      "['title', 'release_year', 'type', 'rating', 'service']\n",
      "['title', 'release_year', 'type', 'rating', 'service']\n",
      "['title', 'release_year', 'type', 'rating', 'service']\n",
      "['title', 'release_year', 'type', 'rating', 'service']\n"
     ]
    }
   ],
   "source": [
    "# All columns are now the same across these datasets\n",
    "for i in [amazon, disney, hbo, hulu, netflix]:\n",
    "    print(list(i.columns))"
   ]
  },
  {
   "cell_type": "code",
   "execution_count": 5,
   "id": "confidential-iraqi",
   "metadata": {},
   "outputs": [
    {
     "name": "stdout",
     "output_type": "stream",
     "text": [
      "<class 'pandas.core.frame.DataFrame'>\n",
      "RangeIndex: 9668 entries, 0 to 9667\n",
      "Data columns (total 5 columns):\n",
      " #   Column        Non-Null Count  Dtype \n",
      "---  ------        --------------  ----- \n",
      " 0   title         9668 non-null   object\n",
      " 1   release_year  9668 non-null   int64 \n",
      " 2   type          9668 non-null   object\n",
      " 3   rating        9331 non-null   object\n",
      " 4   service       9668 non-null   object\n",
      "dtypes: int64(1), object(4)\n",
      "memory usage: 377.8+ KB\n",
      "None\n",
      "\n",
      "<class 'pandas.core.frame.DataFrame'>\n",
      "RangeIndex: 1450 entries, 0 to 1449\n",
      "Data columns (total 5 columns):\n",
      " #   Column        Non-Null Count  Dtype \n",
      "---  ------        --------------  ----- \n",
      " 0   title         1450 non-null   object\n",
      " 1   release_year  1450 non-null   int64 \n",
      " 2   type          1450 non-null   object\n",
      " 3   rating        1447 non-null   object\n",
      " 4   service       1450 non-null   object\n",
      "dtypes: int64(1), object(4)\n",
      "memory usage: 56.8+ KB\n",
      "None\n",
      "\n",
      "<class 'pandas.core.frame.DataFrame'>\n",
      "RangeIndex: 2087 entries, 0 to 2086\n",
      "Data columns (total 5 columns):\n",
      " #   Column        Non-Null Count  Dtype \n",
      "---  ------        --------------  ----- \n",
      " 0   title         2087 non-null   object\n",
      " 1   release_year  2087 non-null   int64 \n",
      " 2   type          375 non-null    object\n",
      " 3   rating        1537 non-null   object\n",
      " 4   service       2087 non-null   object\n",
      "dtypes: int64(1), object(4)\n",
      "memory usage: 81.6+ KB\n",
      "None\n",
      "\n",
      "<class 'pandas.core.frame.DataFrame'>\n",
      "RangeIndex: 3073 entries, 0 to 3072\n",
      "Data columns (total 5 columns):\n",
      " #   Column        Non-Null Count  Dtype \n",
      "---  ------        --------------  ----- \n",
      " 0   title         3073 non-null   object\n",
      " 1   release_year  3073 non-null   int64 \n",
      " 2   type          3073 non-null   object\n",
      " 3   rating        2553 non-null   object\n",
      " 4   service       3073 non-null   object\n",
      "dtypes: int64(1), object(4)\n",
      "memory usage: 120.2+ KB\n",
      "None\n",
      "\n",
      "<class 'pandas.core.frame.DataFrame'>\n",
      "RangeIndex: 8807 entries, 0 to 8806\n",
      "Data columns (total 5 columns):\n",
      " #   Column        Non-Null Count  Dtype \n",
      "---  ------        --------------  ----- \n",
      " 0   title         8807 non-null   object\n",
      " 1   release_year  8807 non-null   int64 \n",
      " 2   type          8807 non-null   object\n",
      " 3   rating        8803 non-null   object\n",
      " 4   service       8807 non-null   object\n",
      "dtypes: int64(1), object(4)\n",
      "memory usage: 344.1+ KB\n",
      "None\n",
      "\n"
     ]
    }
   ],
   "source": [
    "for i in [amazon, disney, hbo, hulu, netflix]:\n",
    "    print(i.info())\n",
    "    print()"
   ]
  },
  {
   "cell_type": "code",
   "execution_count": 6,
   "id": "boring-vegetarian",
   "metadata": {},
   "outputs": [
    {
     "name": "stdout",
     "output_type": "stream",
     "text": [
      "       release_year\n",
      "count   9668.000000\n",
      "mean    2008.341849\n",
      "std       18.922482\n",
      "min     1920.000000\n",
      "25%     2007.000000\n",
      "50%     2016.000000\n",
      "75%     2019.000000\n",
      "max     2021.000000\n",
      "\n",
      "       release_year\n",
      "count   1450.000000\n",
      "mean    2003.091724\n",
      "std       21.860162\n",
      "min     1928.000000\n",
      "25%     1999.000000\n",
      "50%     2011.000000\n",
      "75%     2018.000000\n",
      "max     2021.000000\n",
      "\n",
      "       release_year\n",
      "count   2087.000000\n",
      "mean    1997.639195\n",
      "std       22.898744\n",
      "min     1915.000000\n",
      "25%     1989.000000\n",
      "50%     2006.000000\n",
      "75%     2015.000000\n",
      "max     2020.000000\n",
      "\n",
      "       release_year\n",
      "count   3073.000000\n",
      "mean    2012.567524\n",
      "std       10.844069\n",
      "min     1923.000000\n",
      "25%     2010.000000\n",
      "50%     2016.000000\n",
      "75%     2019.000000\n",
      "max     2021.000000\n",
      "\n",
      "       release_year\n",
      "count   8807.000000\n",
      "mean    2014.180198\n",
      "std        8.819312\n",
      "min     1925.000000\n",
      "25%     2013.000000\n",
      "50%     2017.000000\n",
      "75%     2019.000000\n",
      "max     2021.000000\n",
      "\n"
     ]
    }
   ],
   "source": [
    "for i in [amazon, disney, hbo, hulu, netflix]:\n",
    "    print(i.describe())\n",
    "    print()"
   ]
  },
  {
   "cell_type": "markdown",
   "id": "adverse-conversation",
   "metadata": {},
   "source": [
    "Most necessary data exists in a non-null format. Release years are all integers with minimum and maximum values that make sense. Ratings need to be cleaned up. There are also a decent amount of null ratings, but this is not super important as rating distributions can still be observed. Types are mostly okay, but HBO stores Movie type as null and TV Show type as TV. This needs to be fixed. \n",
    "\n",
    "Incorrect data will be filtered out when data is merged with TMDb API."
   ]
  },
  {
   "cell_type": "markdown",
   "id": "afraid-calvin",
   "metadata": {},
   "source": [
    "## Cleaning Type"
   ]
  },
  {
   "cell_type": "code",
   "execution_count": 7,
   "id": "executed-interstate",
   "metadata": {},
   "outputs": [
    {
     "name": "stdout",
     "output_type": "stream",
     "text": [
      "['Movie' 'TV Show']\n",
      "['Movie' 'TV Show']\n",
      "['TV' None]\n",
      "['Movie' 'TV Show']\n",
      "['Movie' 'TV Show']\n"
     ]
    }
   ],
   "source": [
    "# Looking at type consistency\n",
    "for i in [amazon,disney,hbo,hulu,netflix]:\n",
    "    print(i.type.unique())"
   ]
  },
  {
   "cell_type": "code",
   "execution_count": 8,
   "id": "compliant-traffic",
   "metadata": {},
   "outputs": [],
   "source": [
    "# Set new content type for consistency\n",
    "def get_type(t):\n",
    "    if(t == \"TV Show\" or t == \"Movie\"):\n",
    "        return t\n",
    "    elif(t == \"TV\"):\n",
    "        return \"TV Show\"\n",
    "    else:\n",
    "        return \"Movie\""
   ]
  },
  {
   "cell_type": "code",
   "execution_count": 9,
   "id": "exterior-booking",
   "metadata": {},
   "outputs": [],
   "source": [
    "# Replace types\n",
    "for i in [amazon, disney, hbo, hulu, netflix]:\n",
    "    i[\"type\"] = i[\"type\"].apply(get_type)"
   ]
  },
  {
   "cell_type": "markdown",
   "id": "elementary-rover",
   "metadata": {},
   "source": [
    "## Cleaning Ratings"
   ]
  },
  {
   "cell_type": "code",
   "execution_count": 10,
   "id": "dietary-focus",
   "metadata": {},
   "outputs": [
    {
     "name": "stdout",
     "output_type": "stream",
     "text": [
      "[None '13+' 'ALL' '18+' 'R' 'TV-Y' 'TV-Y7' 'NR' '16+' 'TV-PG' '7+' 'TV-14'\n",
      " 'TV-NR' 'TV-G' 'PG-13' 'TV-MA' 'G' 'PG' 'NC-17' 'UNRATED' '16' 'AGES_16_'\n",
      " 'AGES_18_' 'ALL_AGES' 'NOT_RATE']\n",
      "['TV-G' 'PG' 'TV-PG' None 'PG-13' 'TV-14' 'G' 'TV-Y7' 'TV-Y' 'TV-Y7-FV']\n",
      "['R/TV-MA' 'PG-13/TV-14' 'PG/TV-PG' None 'G/TV-G']\n",
      "['TV-MA' None 'PG-13' 'R' 'TV-14' 'PG' 'TV-PG' 'NOT RATED' 'G' 'TV-G'\n",
      " '2 Seasons' 'TV-Y' '93 min' '4 Seasons' 'TV-Y7' '136 min' '91 min'\n",
      " '85 min' '98 min' '89 min' '94 min' '86 min' '3 Seasons' '121 min'\n",
      " '88 min' '101 min' '1 Season' '83 min' '100 min' '95 min' '92 min'\n",
      " '96 min' '109 min' '99 min' '75 min' '87 min' '67 min' '104 min'\n",
      " '107 min' '84 min' '103 min' '105 min' '119 min' '114 min' '82 min'\n",
      " '90 min' '130 min' '110 min' '80 min' '6 Seasons' '97 min' '111 min'\n",
      " '81 min' '49 min' '45 min' '41 min' '73 min' '40 min' '36 min' '39 min'\n",
      " '34 min' '47 min' '65 min' '37 min' '78 min' '102 min' '129 min'\n",
      " '115 min' '112 min' 'NR' '61 min' '106 min' '76 min' '77 min' '79 min'\n",
      " '157 min' '28 min' '64 min' '7 min' '5 min' '6 min' '127 min' '142 min'\n",
      " '108 min' '57 min' '118 min' '116 min' '12 Seasons' '71 min']\n",
      "['PG-13' 'TV-MA' 'PG' 'TV-14' 'TV-PG' 'TV-Y' 'TV-Y7' 'R' 'TV-G' 'G'\n",
      " 'NC-17' '74 min' '84 min' '66 min' 'NR' None 'TV-Y7-FV' 'UR']\n"
     ]
    }
   ],
   "source": [
    "# Looking at rating consistency\n",
    "for i in [amazon,disney,hbo,hulu,netflix]:\n",
    "    print(i.rating.unique())"
   ]
  },
  {
   "cell_type": "code",
   "execution_count": 11,
   "id": "mechanical-amsterdam",
   "metadata": {},
   "outputs": [],
   "source": [
    "# Get a new rating that conforms to other data\n",
    "def get_rating(rating):\n",
    "    # Dictionary that will convert ratings to be in the same set\n",
    "    conversion_dict = {\"13+\": \"PG-13\", \"16\": \"R\", \"16+\": \"R\", \"18+\": \"NC-17\", \"7+\": \"G\", \"AGES_16_\": \"R\", \"AGES_18_\": \"NC-17\",\n",
    "                      \"ALL\": \"G\", \"ALL_AGES\": \"G\", \"NOT RATED\": \"NR\", \"NOT_RATE\": \"NR\", \"TV-14\": \"PG-13\", \"TV-G\": \"G\", \n",
    "                      \"TV-MA\": \"R\", \"TV-PG\": \"PG\", \"TV-Y\": \"G\", \"TV-Y7\": \"PG\", \"TV-Y7-FV\": \"PG\", \"UNRATED\": \"NR\", \"UR\": \"NR\",\n",
    "                      \"TV-NR\": \"NR\", \"R/TV-MA\": \"R\", \"PG-13/TV-14\": \"PG-13\", \"PG/TV-PG\": \"PG\", \"G/TV-G\": \"G\"}\n",
    "\n",
    "    # Return converted rating if possible\n",
    "    if(rating in conversion_dict.keys()):\n",
    "        return conversion_dict.get(rating)\n",
    "    # If rating exists in value set, return it\n",
    "    elif(rating in conversion_dict.values()):\n",
    "        return rating\n",
    "    # If rating is neither a key nor value in the dictionary, it must be thrown out\n",
    "    else:\n",
    "        return None"
   ]
  },
  {
   "cell_type": "code",
   "execution_count": 12,
   "id": "racial-phoenix",
   "metadata": {},
   "outputs": [],
   "source": [
    "# Replace ratings\n",
    "for i in [amazon, disney, hbo, hulu, netflix]:\n",
    "    i[\"rating\"] = i[\"rating\"].apply(get_rating)"
   ]
  },
  {
   "cell_type": "markdown",
   "id": "plain-planner",
   "metadata": {},
   "source": [
    "## Saving Clean Data"
   ]
  },
  {
   "cell_type": "code",
   "execution_count": 13,
   "id": "single-savannah",
   "metadata": {},
   "outputs": [],
   "source": [
    "# Write all clean datasets to .csv files\n",
    "amazon.to_csv(\"data/amazon_clean.csv\", index=False)\n",
    "disney.to_csv(\"data/disney_clean.csv\", index=False)\n",
    "hbo.to_csv(\"data/hbo_clean.csv\", index=False)\n",
    "hulu.to_csv(\"data/hulu_clean.csv\", index=False)\n",
    "netflix.to_csv(\"data/netflix_clean.csv\", index=False)"
   ]
  }
 ],
 "metadata": {
  "kernelspec": {
   "display_name": "Python 3",
   "language": "python",
   "name": "python3"
  },
  "language_info": {
   "codemirror_mode": {
    "name": "ipython",
    "version": 3
   },
   "file_extension": ".py",
   "mimetype": "text/x-python",
   "name": "python",
   "nbconvert_exporter": "python",
   "pygments_lexer": "ipython3",
   "version": "3.8.5"
  }
 },
 "nbformat": 4,
 "nbformat_minor": 5
}
